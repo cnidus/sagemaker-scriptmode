{
 "cells": [
  {
   "cell_type": "markdown",
   "metadata": {},
   "source": [
    "# Environment setup\n",
    "To start things off, we'll set the s3 bucket name, download the training data to S3 and upload the customized training container to Elastic Container Registry (ECR).\n",
    "\n",
    "If you don't have an S3 bucket to use, please go set one up now and note down the bucket name."
   ]
  },
  {
   "cell_type": "code",
   "execution_count": null,
   "metadata": {},
   "outputs": [],
   "source": [
    "import sys\n",
    "sys.path.append('/home/ec2-user/anaconda3/lib/python3.6/site-packages/')\n",
    "\n",
    "import boto3\n",
    "import re\n",
    "from sagemaker import get_execution_role\n",
    "\n",
    "assumed_role = get_execution_role()\n",
    "print(str(assumed_role))"
   ]
  },
  {
   "cell_type": "code",
   "execution_count": null,
   "metadata": {},
   "outputs": [],
   "source": [
    "# Bucket location\n",
    "temp_s3 = \"s3://cnidus-ml-pdx/criteo/temp\"\n",
    "\n",
    "dataset_s3 = \"s3://sagemaker-us-west-2-369233609183/datasets/criteo-16-tb/criteo_20180605_141913/\""
   ]
  },
  {
   "cell_type": "code",
   "execution_count": null,
   "metadata": {},
   "outputs": [],
   "source": [
    "!aws s3 ls s3://sagemaker-us-west-2-369233609183/datasets/criteo-16-tb/criteo_20180605_141913/ | wc -l"
   ]
  },
  {
   "cell_type": "markdown",
   "metadata": {},
   "source": [
    "## Downloading the criteo dataset\n",
    "We'll grab the dataset off the web and load it to S3.\n",
    "\n",
    "The source is here:\n",
    "http://labs.criteo.com/2013/12/download-terabyte-click-logs-2/"
   ]
  },
  {
   "cell_type": "code",
   "execution_count": null,
   "metadata": {},
   "outputs": [],
   "source": [
    "%%bash\n",
    "mkdir /tmp/criteo\n",
    "cd /tmp/criteo\n",
    "curl -O http://azuremlsampleexperiments.blob.core.windows.net/criteo/day_0.gz"
   ]
  },
  {
   "cell_type": "code",
   "execution_count": null,
   "metadata": {},
   "outputs": [],
   "source": [
    "###Upload to S3\n",
    "#TODO"
   ]
  },
  {
   "cell_type": "markdown",
   "metadata": {},
   "source": [
    "## Download the script-mode container"
   ]
  },
  {
   "cell_type": "code",
   "execution_count": null,
   "metadata": {},
   "outputs": [],
   "source": [
    "%%bash\n",
    "git clone -b mvs-script-mode-pipe-ps-server https://github.com/mvsusp/sagemaker-tensorflow-containers.git"
   ]
  },
  {
   "cell_type": "markdown",
   "metadata": {},
   "source": [
    "Install dependancies (is this needed on a ssagemaker notebook?)"
   ]
  },
  {
   "cell_type": "code",
   "execution_count": null,
   "metadata": {},
   "outputs": [],
   "source": [
    "!pwd"
   ]
  },
  {
   "cell_type": "code",
   "execution_count": null,
   "metadata": {},
   "outputs": [],
   "source": [
    "import os\n",
    "print(os.getcwd())\n",
    "#os.chdir('sagemaker-tensorflow-containers/test/integration/benchmarks/criteo')\n",
    "print(os.getcwd())\n",
    "from sagemaker.tensorflow import TensorFlow\n",
    "\n",
    "# Change this to your criteo small clicks or large clicks datasets:\n",
    "# https://github.com/GoogleCloudPlatform/cloudml-samples/tree/master/criteo_tft#criteo-dataset\n",
    "CRITEO_DATASET = dataset_s3\n",
    "\n",
    "hyperparameters = {\n",
    "    # sets the number of parameter servers in the cluster.\n",
    "    'sagemaker_num_parameter_servers': 10,\n",
    "    's3_channel':                      CRITEO_DATASET,\n",
    "    'batch_size':                      30000,\n",
    "    'dataset':                         'kaggle',\n",
    "    'model_type':                      'linear',\n",
    "    'l2_regularization':               100,\n",
    "\n",
    "    # see https://www.tensorflow.org/performance/performance_guide#optimizing_for_cpu\n",
    "    # Best value for this model is 10, default value in the container is 0.\n",
    "    # 0 sets the value to the number of logical cores.\n",
    "    'inter_op_parallelism_threads':    10,\n",
    "\n",
    "    # environment variables that will be written to the container before training starts\n",
    "    'sagemaker_env_vars':              {\n",
    "        # True uses HTTPS, uses HTTP otherwise. Default false\n",
    "        # see https://docs.aws.amazon.com/sdk-for-cpp/v1/developer-guide/client-config.html\n",
    "        'S3_USE_HTTPS':  True,\n",
    "        # True verifies SSL. Default false\n",
    "        'S3_VERIFY_SSL': True,\n",
    "        # Sets the time, in milliseconds, that a thread should wait, after completing the\n",
    "        # execution of a parallel region, before sleeping. Default 0\n",
    "        # see https://github.com/tensorflow/tensorflow/blob/faff6f2a60a01dba57cf3a3ab832279dbe174798/tensorflow/docs_src/performance/performance_guide.md#tuning-mkl-for-the-best-performance\n",
    "        'KMP_BLOCKTIME': 25\n",
    "    }\n",
    "}\n",
    "\n",
    "tf = TensorFlow(entry_point='task.py',\n",
    "                source_dir='trainer',\n",
    "                train_instance_count=10,\n",
    "                train_instance_type='ml.c5.9xlarge',\n",
    "                # pass in your own SageMaker role\n",
    "                role=assumed_role,\n",
    "                hyperparameters=hyperparameters)\n",
    "\n",
    "# This points to the prototype images.\n",
    "# Change the region (to us-west-2 or us-east-2) or TF version (to 1.7.0) if needed\n",
    "tf.train_image = lambda: '520713654638.dkr.ecr.us-west-2.amazonaws.com/sagemaker-tensorflow:1.6.0-cpu-py2-script-mode-preview'\n",
    "\n",
    "# publicly accessible placeholder data. Change the region if needed\n",
    "tf.fit({'training': 's3://sagemaker-sample-data-us-west-2/spark/mnist/train'}, run_tensorboard_locally=True)"
   ]
  },
  {
   "cell_type": "code",
   "execution_count": null,
   "metadata": {},
   "outputs": [],
   "source": []
  }
 ],
 "metadata": {
  "kernelspec": {
   "display_name": "conda_tensorflow_p27",
   "language": "python",
   "name": "conda_tensorflow_p27"
  },
  "language_info": {
   "codemirror_mode": {
    "name": "ipython",
    "version": 2
   },
   "file_extension": ".py",
   "mimetype": "text/x-python",
   "name": "python",
   "nbconvert_exporter": "python",
   "pygments_lexer": "ipython2",
   "version": "2.7.14"
  }
 },
 "nbformat": 4,
 "nbformat_minor": 2
}
